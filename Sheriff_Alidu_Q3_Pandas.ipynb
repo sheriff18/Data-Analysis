{
  "cells": [
    {
      "cell_type": "markdown",
      "metadata": {
        "id": "view-in-github",
        "colab_type": "text"
      },
      "source": [
        "<a href=\"https://colab.research.google.com/github/sheriff18/Me/blob/main/Sheriff_Alidu_Q3_Pandas.ipynb\" target=\"_parent\"><img src=\"https://colab.research.google.com/assets/colab-badge.svg\" alt=\"Open In Colab\"/></a>"
      ]
    },
    {
      "cell_type": "markdown",
      "id": "0568b8db",
      "metadata": {
        "id": "0568b8db"
      },
      "source": [
        "Before you turn this problem in, make sure everything runs as expected. First, **restart the kernel** (in the menubar, select Kernel$\\rightarrow$Restart) and then **run all cells** (in the menubar, select Cell$\\rightarrow$Run All).\n",
        "\n",
        "Make sure you fill in any place that says `YOUR CODE HERE` or \"YOUR ANSWER HERE\", as well as your name and collaborators below:"
      ]
    },
    {
      "cell_type": "code",
      "execution_count": null,
      "id": "4e055ab8",
      "metadata": {
        "id": "4e055ab8"
      },
      "outputs": [],
      "source": [
        "NAME = \"SHERIFF ALIDU\""
      ]
    },
    {
      "cell_type": "markdown",
      "id": "505623d9",
      "metadata": {
        "id": "505623d9"
      },
      "source": [
        "---"
      ]
    },
    {
      "cell_type": "markdown",
      "id": "3882f80e",
      "metadata": {
        "deletable": false,
        "editable": false,
        "nbgrader": {
          "cell_type": "markdown",
          "checksum": "8877fdd830b356d735511d0f0f603870",
          "grade": false,
          "grade_id": "cell-232ae0b15c97f90a",
          "locked": true,
          "schema_version": 3,
          "solution": false,
          "task": false
        },
        "id": "3882f80e"
      },
      "source": [
        "# Q3: Pandas"
      ]
    },
    {
      "cell_type": "markdown",
      "id": "c685cd09",
      "metadata": {
        "deletable": false,
        "editable": false,
        "nbgrader": {
          "cell_type": "markdown",
          "checksum": "f75b49bfcd79e98bd4a07a711deae1c7",
          "grade": false,
          "grade_id": "cell-dc30cd03daa012e9",
          "locked": true,
          "schema_version": 3,
          "solution": false,
          "task": false
        },
        "id": "c685cd09"
      },
      "source": [
        "Welcome to a quick exercise for you to practice your pandas skills! We will be using the [SF Salaries Dataset](https://www.kaggle.com/kaggle/sf-salaries) from Kaggle! Just follow along and complete the tasks outlined in bold below. The tasks will get harder and harder as you go along."
      ]
    },
    {
      "cell_type": "markdown",
      "id": "bd44fd85",
      "metadata": {
        "deletable": false,
        "editable": false,
        "nbgrader": {
          "cell_type": "markdown",
          "checksum": "a30e1b1a69f5020be84c46db0d5bbe8e",
          "grade": false,
          "grade_id": "cell-f810fd0a58d89b16",
          "locked": true,
          "schema_version": 3,
          "solution": false,
          "task": false
        },
        "id": "bd44fd85"
      },
      "source": [
        "Write a function `average_base_pay(df)` that takes a dataframe and returns the average BasePay.\n"
      ]
    },
    {
      "cell_type": "code",
      "execution_count": null,
      "id": "466c0b21",
      "metadata": {
        "deletable": false,
        "nbgrader": {
          "cell_type": "code",
          "checksum": "c4807bd44f4d0caf41f407cf28b707ee",
          "grade": false,
          "grade_id": "cell-9956d2606b32c334",
          "locked": false,
          "schema_version": 3,
          "solution": true,
          "task": false
        },
        "id": "466c0b21"
      },
      "outputs": [],
      "source": [
        "import pandas as pd\n",
        "def average_base_pay(df):\n",
        "\n",
        "\n",
        "    avg = df['BasePay'].mean()\n",
        "    return avg\n",
        "\n"
      ]
    },
    {
      "cell_type": "code",
      "execution_count": null,
      "id": "ca96fa97",
      "metadata": {
        "deletable": false,
        "editable": false,
        "nbgrader": {
          "cell_type": "code",
          "checksum": "cd44ebee866c0917fd811ce18853ceb3",
          "grade": true,
          "grade_id": "cell-6de9cf25de12ebfe",
          "locked": true,
          "points": 0,
          "schema_version": 3,
          "solution": false,
          "task": false
        },
        "id": "ca96fa97"
      },
      "outputs": [],
      "source": [
        "\n",
        "\n",
        "def test_average_base_pay():\n",
        "\n"
      ]
    },
    {
      "cell_type": "markdown",
      "id": "a63d9af9",
      "metadata": {
        "deletable": false,
        "editable": false,
        "nbgrader": {
          "cell_type": "markdown",
          "checksum": "1a75ec7111412569c5cbe6280265bd54",
          "grade": false,
          "grade_id": "cell-f378bd993ac7d50e",
          "locked": true,
          "schema_version": 3,
          "solution": false,
          "task": false
        },
        "id": "a63d9af9"
      },
      "source": [
        "q) Write a function `highest_overtime_pay(df)` that takes a dataframe and returns the highest OvertimePay.\n"
      ]
    },
    {
      "cell_type": "code",
      "execution_count": null,
      "id": "bb4729f7",
      "metadata": {
        "deletable": false,
        "nbgrader": {
          "cell_type": "code",
          "checksum": "45d091a6f065d442e2a5b5ab3f9e8f7f",
          "grade": false,
          "grade_id": "cell-a21f0da23bd597e0",
          "locked": false,
          "schema_version": 3,
          "solution": true,
          "task": false
        },
        "id": "bb4729f7"
      },
      "outputs": [],
      "source": [
        "def highest_overtime_pay(df):\n",
        "\n",
        "\n",
        "    max_overtime = df['OvertimePay'].max()\n",
        "    return max_overtime\n",
        "\n"
      ]
    },
    {
      "cell_type": "code",
      "execution_count": null,
      "id": "35c014d1",
      "metadata": {
        "deletable": false,
        "editable": false,
        "nbgrader": {
          "cell_type": "code",
          "checksum": "6841184b6483314c3d1d0b20eea27cd4",
          "grade": true,
          "grade_id": "cell-0b7a1b31855d854b",
          "locked": true,
          "points": 0,
          "schema_version": 3,
          "solution": false,
          "task": false
        },
        "id": "35c014d1"
      },
      "outputs": [],
      "source": [
        "\n",
        "def test_highest_overtime_pay(df):\n",
        "\n",
        "\n"
      ]
    },
    {
      "cell_type": "markdown",
      "id": "cd005bed",
      "metadata": {
        "deletable": false,
        "editable": false,
        "nbgrader": {
          "cell_type": "markdown",
          "checksum": "aec2f9f936ea9efef40eb6b0eb012501",
          "grade": false,
          "grade_id": "cell-2ecf1928c714afc4",
          "locked": true,
          "schema_version": 3,
          "solution": false,
          "task": false
        },
        "id": "cd005bed"
      },
      "source": [
        "Write a function `job_title_of(df, name)` that takes a dataframe and a name, and returns the job title of the person with the given name. Make sure the name is case insensitive."
      ]
    },
    {
      "cell_type": "code",
      "execution_count": null,
      "id": "6e12f8c8",
      "metadata": {
        "deletable": false,
        "nbgrader": {
          "cell_type": "code",
          "checksum": "3ef92ec34f9ef97e82fbc5dafa85fcab",
          "grade": false,
          "grade_id": "cell-259ef69f6cbe9d0d",
          "locked": false,
          "schema_version": 3,
          "solution": true,
          "task": false
        },
        "id": "6e12f8c8"
      },
      "outputs": [],
      "source": [
        "def job_title_of(df, name):\n",
        "\n",
        "    lowblock = name.lower()\n",
        "    new = df[df['Name'].str.lower() == lowblock]\n",
        "\n",
        "    if new.empty:\n",
        "        return None\n",
        "    else:\n",
        "        job = new['JobTitle'].iloc[0]\n",
        "        return job\n",
        "\n",
        "\n"
      ]
    },
    {
      "cell_type": "code",
      "execution_count": null,
      "id": "da16f8d7",
      "metadata": {
        "deletable": false,
        "editable": false,
        "nbgrader": {
          "cell_type": "code",
          "checksum": "8d956e0983baf94326ba256de06c12b1",
          "grade": true,
          "grade_id": "cell-dccc5ee19e3b6f65",
          "locked": true,
          "points": 0,
          "schema_version": 3,
          "solution": false,
          "task": false
        },
        "id": "da16f8d7"
      },
      "outputs": [],
      "source": [
        "def test_job_title_of():\n",
        "    \"\"\"Check that job_title_of returns the correct output for several inputs\"\"\"\n"
      ]
    },
    {
      "cell_type": "markdown",
      "id": "6b5d2cc1",
      "metadata": {
        "deletable": false,
        "editable": false,
        "nbgrader": {
          "cell_type": "markdown",
          "checksum": "644d90f923038aba0a10b8b6d22d49d1",
          "grade": false,
          "grade_id": "cell-0b11761f27f2bc55",
          "locked": true,
          "schema_version": 3,
          "solution": false,
          "task": false
        },
        "id": "6b5d2cc1"
      },
      "source": [
        "Write a function `total_pay_benefits_of(df, name)` that takes a dataframe and a name, and returns the total pay benefits of the person with the given name. Make sure the name is case insensitive.\n"
      ]
    },
    {
      "cell_type": "code",
      "execution_count": null,
      "id": "4d2d095c",
      "metadata": {
        "deletable": false,
        "nbgrader": {
          "cell_type": "code",
          "checksum": "d0c21100e52007230d017bb476d53e51",
          "grade": false,
          "grade_id": "cell-921b58b6ee68ca5c",
          "locked": false,
          "schema_version": 3,
          "solution": true,
          "task": false
        },
        "id": "4d2d095c"
      },
      "outputs": [],
      "source": [
        "def total_pay_benefits_of(df, name):\n",
        "    lowblock = name.lower()\n",
        "    new = df[df['EmployeeName'].str.lower() == lowblock]\n",
        "\n",
        "    if new.empty:\n",
        "        return None\n",
        "    else:\n",
        "        total_pay_benefits = new['TotalPayBenefits'].iloc[0]\n",
        "        return total_pay_benefits\n"
      ]
    },
    {
      "cell_type": "code",
      "execution_count": null,
      "id": "01a2ed21",
      "metadata": {
        "deletable": false,
        "editable": false,
        "nbgrader": {
          "cell_type": "code",
          "checksum": "9b212f90258abdb5238e73cefe3cddf8",
          "grade": true,
          "grade_id": "cell-e642664ad758145e",
          "locked": true,
          "points": 0,
          "schema_version": 3,
          "solution": false,
          "task": false
        },
        "id": "01a2ed21"
      },
      "outputs": [],
      "source": [
        "def test_total_pay_benefits_of():\n",
        "    \"\"\"Check that total_pay_benefits_of returns the correct output for several inputs\"\"\"\n"
      ]
    },
    {
      "cell_type": "markdown",
      "id": "7062db0c",
      "metadata": {
        "deletable": false,
        "editable": false,
        "nbgrader": {
          "cell_type": "markdown",
          "checksum": "9849d9210eab72a2328a7d66845f3322",
          "grade": false,
          "grade_id": "cell-658469df699af943",
          "locked": true,
          "schema_version": 3,
          "solution": false,
          "task": false
        },
        "id": "7062db0c"
      },
      "source": [
        "Write a function `highest_paid_person(df)` that takes a dataframe and returns the name of the highest paid person (including benefits).\n"
      ]
    },
    {
      "cell_type": "code",
      "execution_count": null,
      "id": "b2e44397",
      "metadata": {
        "deletable": false,
        "nbgrader": {
          "cell_type": "code",
          "checksum": "90f84e47a2cb63d7d9d1d9ffd8bbac52",
          "grade": false,
          "grade_id": "cell-e09c2726829088ad",
          "locked": false,
          "schema_version": 3,
          "solution": true,
          "task": false
        },
        "id": "b2e44397"
      },
      "outputs": [],
      "source": [
        "def highest_paid_person(df):\n",
        "    \"\"\"Find the name of the highest paid person in the dataframe.\n",
        "\n",
        "    Args:\n",
        "        df: A dataframe with columns 'EmployeeName' and 'TotalPayBenefits' containing strings and numerical values, respectively.\n",
        "\n",
        "    Returns:\n",
        "        The name of the highest paid person as a string.\n",
        "    \"\"\"\n",
        "    highest_salary_row = df.loc[df['Salary'].idxmax()]\n",
        "    highest_paid_person_name = highest_salary_row['Name']\n",
        "    return highest_paid_person_name\n",
        "    # YOUR CODE HERE\n",
        "    raise NotImplementedError()\n"
      ]
    },
    {
      "cell_type": "code",
      "execution_count": null,
      "id": "79ca44fd",
      "metadata": {
        "deletable": false,
        "editable": false,
        "nbgrader": {
          "cell_type": "code",
          "checksum": "4ddb8585eea9950e9678bc482909dc1e",
          "grade": true,
          "grade_id": "cell-76533f6a7b16ae5b",
          "locked": true,
          "points": 0,
          "schema_version": 3,
          "solution": false,
          "task": false
        },
        "id": "79ca44fd"
      },
      "outputs": [],
      "source": [
        "def test_highest_paid_person():\n",
        "    \"\"\"Check that highest_paid_person returns the correct output for several inputs\"\"\"\n"
      ]
    },
    {
      "cell_type": "markdown",
      "id": "2f912a72",
      "metadata": {
        "deletable": false,
        "editable": false,
        "nbgrader": {
          "cell_type": "markdown",
          "checksum": "2d6f70686116a6d1430b9ae716d44cb4",
          "grade": false,
          "grade_id": "cell-b871d78821dc3213",
          "locked": true,
          "schema_version": 3,
          "solution": false,
          "task": false
        },
        "id": "2f912a72"
      },
      "source": [
        "Write a function `lowest_paid_person(df)` that takes a dataframe and returns the name of the lowest paid person (including benefits).\n"
      ]
    },
    {
      "cell_type": "code",
      "execution_count": null,
      "id": "d957cec4",
      "metadata": {
        "deletable": false,
        "nbgrader": {
          "cell_type": "code",
          "checksum": "19ba843b7112bf251a370db98ba177ce",
          "grade": false,
          "grade_id": "cell-f3a8d3499aacc89d",
          "locked": false,
          "schema_version": 3,
          "solution": true,
          "task": false
        },
        "id": "d957cec4"
      },
      "outputs": [],
      "source": [
        "def lowest_paid_person(df):\n",
        "    \"\"\"Find the name of the lowest paid person in the dataframe.\n",
        "\n",
        "    Args:\n",
        "        df: A dataframe with columns 'EmployeeName' and 'TotalPayBenefits' containing strings and numerical values, respectively.\n",
        "\n",
        "    Returns:\n",
        "        The name of the lowest paid person as a string.\n",
        "    \"\"\"\n",
        "    lowest_salary_row = df.loc[df['TotalPayBenefits'].idxmin()]\n",
        "    lowest_paid_person_name = lowest_salary_row['EmployeeName']\n",
        "    return lowest_paid_person_name\n",
        "    # YOUR CODE HERE\n",
        "    raise NotImplementedError()\n"
      ]
    },
    {
      "cell_type": "code",
      "execution_count": null,
      "id": "14b2a761",
      "metadata": {
        "deletable": false,
        "editable": false,
        "nbgrader": {
          "cell_type": "code",
          "checksum": "97eb19085c4660406fcb979f6987eab8",
          "grade": true,
          "grade_id": "cell-1b2727db36c9989c",
          "locked": true,
          "points": 0,
          "schema_version": 3,
          "solution": false,
          "task": false
        },
        "id": "14b2a761"
      },
      "outputs": [],
      "source": [
        "def test_lowest_paid_person():\n",
        "    \"\"\"Check that lowest_paid_person returns the correct output for several inputs\"\"\"\n"
      ]
    },
    {
      "cell_type": "markdown",
      "id": "39609372",
      "metadata": {
        "deletable": false,
        "editable": false,
        "nbgrader": {
          "cell_type": "markdown",
          "checksum": "19204d19709fbfebfe5128af42fc00cf",
          "grade": false,
          "grade_id": "cell-54f02488b211f1db",
          "locked": true,
          "schema_version": 3,
          "solution": false,
          "task": false
        },
        "id": "39609372"
      },
      "source": [
        "Write a function `average_base_pay_per_year(df, year_start, year_end)` that takes a dataframe and a start and end year, and returns the average (mean) BasePay of all employees per year within the given range (inclusive).\n"
      ]
    },
    {
      "cell_type": "code",
      "execution_count": null,
      "id": "46e23d0a",
      "metadata": {
        "deletable": false,
        "nbgrader": {
          "cell_type": "code",
          "checksum": "b771ba3ac5e39957b308af7782d1c914",
          "grade": false,
          "grade_id": "cell-acd1163d0716dd09",
          "locked": false,
          "schema_version": 3,
          "solution": true,
          "task": false
        },
        "id": "46e23d0a"
      },
      "outputs": [],
      "source": [
        "def average_base_pay_per_year(df, year_start, year_end):\n",
        "    \"\"\"Compute the average base pay per year in the given range.\n",
        "\n",
        "    Args:\n",
        "        df: A dataframe with columns 'BasePay' and 'Year' containing numerical values.\n",
        "        year_start: An integer representing the start year.\n",
        "        year_end: An integer representing the end year.\n",
        "\n",
        "    Returns:\n",
        "        A dictionary where the keys are the years and the values are the average base pay for that year.\n",
        "    \"\"\"\n",
        "    new = df[(df['Year'] >= year_start) & (df['Year'] <= year_end)]\n",
        "\n",
        "    average_pay_per_year = new.groupby('Year')['BasePay'].mean()\n",
        "\n",
        "    return average_pay_per_year\n",
        "    # YOUR CODE HERE\n",
        "    raise NotImplementedError()\n"
      ]
    },
    {
      "cell_type": "code",
      "execution_count": null,
      "id": "2849a488",
      "metadata": {
        "deletable": false,
        "editable": false,
        "nbgrader": {
          "cell_type": "code",
          "checksum": "ee1d79e87aad52ef4221a6f69aeb7824",
          "grade": true,
          "grade_id": "cell-5284dcb443a3ecd5",
          "locked": true,
          "points": 0,
          "schema_version": 3,
          "solution": false,
          "task": false
        },
        "id": "2849a488"
      },
      "outputs": [],
      "source": [
        "def test_average_base_pay_per_year():\n",
        "    \"\"\"Check that average_base_pay_per_year returns the correct output for several inputs\"\"\"\n"
      ]
    },
    {
      "cell_type": "markdown",
      "id": "2502bfe7",
      "metadata": {
        "deletable": false,
        "editable": false,
        "nbgrader": {
          "cell_type": "markdown",
          "checksum": "8127ed15c993ab51a9a7088a16f53ac1",
          "grade": false,
          "grade_id": "cell-96e64abb1c1ec54f",
          "locked": true,
          "schema_version": 3,
          "solution": false,
          "task": false
        },
        "id": "2502bfe7"
      },
      "source": [
        "Write a function `unique_job_titles(df)` that takes a dataframe and returns the number of unique job titles.\n"
      ]
    },
    {
      "cell_type": "code",
      "execution_count": null,
      "id": "d6e36207",
      "metadata": {
        "deletable": false,
        "nbgrader": {
          "cell_type": "code",
          "checksum": "3d2d83991d080056f75586a5533fe457",
          "grade": false,
          "grade_id": "cell-6b9e50a1d9a2e2d8",
          "locked": false,
          "schema_version": 3,
          "solution": true,
          "task": false
        },
        "id": "d6e36207"
      },
      "outputs": [],
      "source": [
        "def unique_job_titles(df):\n",
        "    \"\"\"Find the number of unique job titles in the dataframe.\n",
        "\n",
        "    Args:\n",
        "        df: A dataframe with a column 'JobTitle' containing strings.\n",
        "\n",
        "    Returns:\n",
        "        The number of unique job titles as an integer.\n",
        "    \"\"\"\n",
        "    # YOUR CODE HERE\n",
        "    unique = df['JobTitle'].nunique()\n",
        "    return unique\n",
        "    raise NotImplementedError()\n"
      ]
    },
    {
      "cell_type": "code",
      "execution_count": null,
      "id": "aab2d8b6",
      "metadata": {
        "deletable": false,
        "editable": false,
        "nbgrader": {
          "cell_type": "code",
          "checksum": "39ea21ebd3edc58f19b993008d7380dc",
          "grade": true,
          "grade_id": "cell-91fb07925e0f087c",
          "locked": true,
          "points": 0,
          "schema_version": 3,
          "solution": false,
          "task": false
        },
        "id": "aab2d8b6"
      },
      "outputs": [],
      "source": [
        "def test_unique_job_titles():\n",
        "    \"\"\"Check that unique_job_titles returns the correct output for several inputs\"\"\""
      ]
    },
    {
      "cell_type": "markdown",
      "id": "3ec4760a",
      "metadata": {
        "deletable": false,
        "editable": false,
        "nbgrader": {
          "cell_type": "markdown",
          "checksum": "5decfe50d50869a1a8dd1e1db5bb3354",
          "grade": false,
          "grade_id": "cell-a4f3fbdd698ee7a3",
          "locked": true,
          "schema_version": 3,
          "solution": false,
          "task": false
        },
        "id": "3ec4760a"
      },
      "source": [
        "Write a function `top_5_common_jobs(df)` that takes a dataframe and returns the top 5 most common jobs.\n"
      ]
    },
    {
      "cell_type": "code",
      "execution_count": null,
      "id": "c87e2218",
      "metadata": {
        "deletable": false,
        "nbgrader": {
          "cell_type": "code",
          "checksum": "57ae793f15e9839107c27c85fddd396f",
          "grade": false,
          "grade_id": "cell-26edb4365b3fd49e",
          "locked": false,
          "schema_version": 3,
          "solution": true,
          "task": false
        },
        "id": "c87e2218"
      },
      "outputs": [],
      "source": [
        "def top_5_common_jobs(df):\n",
        "    \"\"\"Find the top 5 most common jobs in the dataframe.\n",
        "\n",
        "    Args:\n",
        "        df: A dataframe with a column 'JobTitle' containing strings.\n",
        "\n",
        "    Returns:\n",
        "        A list of strings representing the top 5 most common jobs.\n",
        "    \"\"\"\n",
        "    cnt = df['JobTitle'].value_counts()\n",
        "    top_5 = cnt.head(5)\n",
        "    return top_5\n",
        "\n",
        "\n",
        "    # YOUR CODE HERE\n",
        "\n"
      ]
    },
    {
      "cell_type": "code",
      "execution_count": null,
      "id": "ccf2f7f9",
      "metadata": {
        "deletable": false,
        "editable": false,
        "nbgrader": {
          "cell_type": "code",
          "checksum": "30bec63eeaa213f728dac209661afc8e",
          "grade": true,
          "grade_id": "cell-016df5e14047b530",
          "locked": true,
          "points": 0,
          "schema_version": 3,
          "solution": false,
          "task": false
        },
        "id": "ccf2f7f9"
      },
      "outputs": [],
      "source": [
        "def test_top_5_common_jobs():\n",
        "    \"\"\"Check that top_5_common_jobs returns the correct output for several inputs\"\"\"\n"
      ]
    },
    {
      "cell_type": "markdown",
      "id": "fcb9541d",
      "metadata": {
        "deletable": false,
        "editable": false,
        "nbgrader": {
          "cell_type": "markdown",
          "checksum": "c59b127417c788fe530f6b05e097afb0",
          "grade": false,
          "grade_id": "cell-cc9700ba25c662ac",
          "locked": true,
          "schema_version": 3,
          "solution": false,
          "task": false
        },
        "id": "fcb9541d"
      },
      "source": [
        "Write a function `job_titles_with_one_occurence(df, year)` that takes a dataframe and a year, and returns the number of job titles that were represented by only one person in that year.\n"
      ]
    },
    {
      "cell_type": "code",
      "execution_count": null,
      "id": "ab8fa6f6",
      "metadata": {
        "deletable": false,
        "nbgrader": {
          "cell_type": "code",
          "checksum": "ef498f0b4633f72db63478e0c295278e",
          "grade": false,
          "grade_id": "cell-aac7975288e0a390",
          "locked": false,
          "schema_version": 3,
          "solution": true,
          "task": false
        },
        "id": "ab8fa6f6"
      },
      "outputs": [],
      "source": [
        "from io import open_code\n",
        "def job_titles_with_one_occurence(df, year):\n",
        "    \"\"\"Find the number of job titles that were represented by only one person in a given year.\n",
        "\n",
        "    Args:\n",
        "        df: A dataframe with columns 'JobTitle' and 'Year' containing strings and numerical values, respectively.\n",
        "        year: An integer representing a year.\n",
        "\n",
        "    Returns:\n",
        "        The number of job titles represented by only one person as an integer.\n",
        "    \"\"\"\n",
        "    # YOUR CODE HERE\n",
        "    df_year = df[df['Year'] == year]\n",
        "    cnt = df_year['JobTitle'].value_counts()\n",
        "    once = (cnt == 1).sum()\n",
        "    return once\n",
        "    raise NotImplementedError()\n"
      ]
    },
    {
      "cell_type": "code",
      "execution_count": null,
      "id": "ee5abd8e",
      "metadata": {
        "deletable": false,
        "editable": false,
        "nbgrader": {
          "cell_type": "code",
          "checksum": "ed596f0fcbefd4960e495a71393a16e3",
          "grade": true,
          "grade_id": "cell-c96c7770776e7a41",
          "locked": true,
          "points": 0,
          "schema_version": 3,
          "solution": false,
          "task": false
        },
        "id": "ee5abd8e"
      },
      "outputs": [],
      "source": [
        "def test_job_titles_with_one_occurence():\n",
        "    \"\"\"Check that job_titles_with_one_occurence returns the correct output for several inputs\"\"\"\n"
      ]
    },
    {
      "cell_type": "markdown",
      "id": "e5906815",
      "metadata": {
        "deletable": false,
        "editable": false,
        "nbgrader": {
          "cell_type": "markdown",
          "checksum": "caf04310b14affc65676f87582efb9dc",
          "grade": false,
          "grade_id": "cell-14f13bb2f6da2ca7",
          "locked": true,
          "schema_version": 3,
          "solution": false,
          "task": false
        },
        "id": "e5906815"
      },
      "source": [
        "Write a function `employees_with_chief_in_title(df)` that takes a dataframe and returns the number of people who have the word \"Chief\" in their job title. Make sure to account for different cases and placements of the word \"Chief\".\n"
      ]
    },
    {
      "cell_type": "code",
      "execution_count": null,
      "id": "a0258861",
      "metadata": {
        "deletable": false,
        "nbgrader": {
          "cell_type": "code",
          "checksum": "e5f883caacf240866ad06e7344ae3ec6",
          "grade": false,
          "grade_id": "cell-7308281b10b89d18",
          "locked": false,
          "schema_version": 3,
          "solution": true,
          "task": false
        },
        "id": "a0258861"
      },
      "outputs": [],
      "source": [
        "import re\n",
        "def employees_with_chief_in_title(df):\n",
        "    \"\"\"Find the number of people who have the word \"Chief\" in their job title.\n",
        "\n",
        "    Args:\n",
        "        df: A dataframe with a column 'JobTitle' containing strings.\n",
        "\n",
        "    Returns:\n",
        "        The number of people who have \"Chief\" in their job title as an integer.\n",
        "    \"\"\"\n",
        "    # YOUR CODE HERE\n",
        "    pattern = re.compile(r'\\bchief\\b', flags=re.IGNORECASE)\n",
        "    df['Chief'] = df['JobTitle'].apply(lambda title: bool(pattern.search(title)))\n",
        "    chief_count = df['Chief'].sum()\n",
        "\n",
        "\n",
        "    return chief_count\n",
        "\n",
        "\n",
        "    raise NotImplementedError()\n"
      ]
    },
    {
      "cell_type": "code",
      "execution_count": null,
      "id": "2953bcc6",
      "metadata": {
        "deletable": false,
        "editable": false,
        "nbgrader": {
          "cell_type": "code",
          "checksum": "4bf54194874915a71112b0fc582c4299",
          "grade": true,
          "grade_id": "cell-8285b455e8aa75a1",
          "locked": true,
          "points": 0,
          "schema_version": 3,
          "solution": false,
          "task": false
        },
        "id": "2953bcc6"
      },
      "outputs": [],
      "source": [
        "def test_employees_with_chief_in_title():\n",
        "    \"\"\"Check that employees_with_chief_in_title returns the correct output for several inputs\"\"\"\n"
      ]
    },
    {
      "cell_type": "markdown",
      "id": "1fb635c3",
      "metadata": {
        "deletable": false,
        "editable": false,
        "nbgrader": {
          "cell_type": "markdown",
          "checksum": "77913d21fa1e19e53e45ec11b3b642ea",
          "grade": false,
          "grade_id": "cell-527158014dc2db03",
          "locked": true,
          "schema_version": 3,
          "solution": false,
          "task": false
        },
        "id": "1fb635c3"
      },
      "source": [
        "Write a function `correlation_title_length_salary(df)` that takes a dataframe and returns the correlation between length of the Job Title string and Salary."
      ]
    },
    {
      "cell_type": "code",
      "execution_count": null,
      "id": "a73df908",
      "metadata": {
        "deletable": false,
        "nbgrader": {
          "cell_type": "code",
          "checksum": "e2471159413f9940b9d45a55d557f177",
          "grade": false,
          "grade_id": "cell-59b173bfaba1f9ab",
          "locked": false,
          "schema_version": 3,
          "solution": true,
          "task": false
        },
        "id": "a73df908"
      },
      "outputs": [],
      "source": [
        "def correlation_title_length_salary(df):\n",
        "    \"\"\"Compute the correlation between length of the job title and salary.\n",
        "\n",
        "    Args:\n",
        "        df: A dataframe with columns 'JobTitle' and 'TotalPayBenefits' containing strings and numerical values, respectively.\n",
        "\n",
        "    Returns:\n",
        "        The correlation as a float.\n",
        "    \"\"\"\n",
        "\n",
        "\n",
        "\n",
        "    # YOUR CODE HERE\n",
        "    df['TitleLength'] = df['JobTitle'].str.len()\n",
        "    correlation = df['TitleLength'].corr(df['Salary'])\n",
        "\n",
        "    return correlation\n",
        "\n",
        "\n"
      ]
    },
    {
      "cell_type": "code",
      "execution_count": null,
      "id": "574fede2",
      "metadata": {
        "deletable": false,
        "editable": false,
        "nbgrader": {
          "cell_type": "code",
          "checksum": "3e0e0f77c88d453e82eb43bf33eb352c",
          "grade": true,
          "grade_id": "cell-0f20891084c2d2ed",
          "locked": true,
          "points": 0,
          "schema_version": 3,
          "solution": false,
          "task": false
        },
        "id": "574fede2"
      },
      "outputs": [],
      "source": [
        "def test_correlation_title_length_salary():\n",
        "\n",
        "    \"\"\"Check that correlation_title_length_salary returns the correct output for several inputs\"\"\"\n"
      ]
    }
  ],
  "metadata": {
    "kernelspec": {
      "display_name": "Python 3 (ipykernel)",
      "language": "python",
      "name": "python3"
    },
    "language_info": {
      "codemirror_mode": {
        "name": "ipython",
        "version": 3
      },
      "file_extension": ".py",
      "mimetype": "text/x-python",
      "name": "python",
      "nbconvert_exporter": "python",
      "pygments_lexer": "ipython3",
      "version": "3.10.9"
    },
    "varInspector": {
      "cols": {
        "lenName": 16,
        "lenType": 16,
        "lenVar": 40
      },
      "kernels_config": {
        "python": {
          "delete_cmd_postfix": "",
          "delete_cmd_prefix": "del ",
          "library": "var_list.py",
          "varRefreshCmd": "print(var_dic_list())"
        },
        "r": {
          "delete_cmd_postfix": ") ",
          "delete_cmd_prefix": "rm(",
          "library": "var_list.r",
          "varRefreshCmd": "cat(var_dic_list()) "
        }
      },
      "types_to_exclude": [
        "module",
        "function",
        "builtin_function_or_method",
        "instance",
        "_Feature"
      ],
      "window_display": false
    },
    "colab": {
      "provenance": [],
      "include_colab_link": true
    }
  },
  "nbformat": 4,
  "nbformat_minor": 5
}